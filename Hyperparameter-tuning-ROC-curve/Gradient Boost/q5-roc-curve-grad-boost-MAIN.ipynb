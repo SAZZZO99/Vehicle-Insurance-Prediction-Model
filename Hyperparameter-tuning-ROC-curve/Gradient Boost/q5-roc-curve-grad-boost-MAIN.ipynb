{
 "cells": [
  {
   "cell_type": "code",
   "execution_count": 1,
   "metadata": {
    "_cell_guid": "b1076dfc-b9ad-4769-8c92-a6c4dae69d19",
    "_uuid": "8f2839f25d086af736a60e9eeb907d3b93b6e0e5",
    "execution": {
     "iopub.execute_input": "2020-11-27T07:26:29.816263Z",
     "iopub.status.busy": "2020-11-27T07:26:29.815512Z",
     "iopub.status.idle": "2020-11-27T07:26:30.864504Z",
     "shell.execute_reply": "2020-11-27T07:26:30.863703Z"
    },
    "papermill": {
     "duration": 1.070066,
     "end_time": "2020-11-27T07:26:30.864645",
     "exception": false,
     "start_time": "2020-11-27T07:26:29.794579",
     "status": "completed"
    },
    "tags": []
   },
   "outputs": [],
   "source": [
    "import numpy as np\n",
    "import pandas as pd\n",
    "import matplotlib.pyplot as plt\n",
    "import seaborn as sns\n",
    "%matplotlib inline"
   ]
  },
  {
   "cell_type": "code",
   "execution_count": 2,
   "metadata": {
    "_cell_guid": "79c7e3d0-c299-4dcb-8224-4455121ee9b0",
    "_uuid": "d629ff2d2480ee46fbb7e2d37f6b5fab8052498a",
    "execution": {
     "iopub.execute_input": "2020-11-27T07:26:30.896347Z",
     "iopub.status.busy": "2020-11-27T07:26:30.895601Z",
     "iopub.status.idle": "2020-11-27T07:26:31.386667Z",
     "shell.execute_reply": "2020-11-27T07:26:31.386150Z"
    },
    "papermill": {
     "duration": 0.509494,
     "end_time": "2020-11-27T07:26:31.386795",
     "exception": false,
     "start_time": "2020-11-27T07:26:30.877301",
     "status": "completed"
    },
    "tags": []
   },
   "outputs": [
    {
     "data": {
      "text/html": [
       "<div>\n",
       "<style scoped>\n",
       "    .dataframe tbody tr th:only-of-type {\n",
       "        vertical-align: middle;\n",
       "    }\n",
       "\n",
       "    .dataframe tbody tr th {\n",
       "        vertical-align: top;\n",
       "    }\n",
       "\n",
       "    .dataframe thead th {\n",
       "        text-align: right;\n",
       "    }\n",
       "</style>\n",
       "<table border=\"1\" class=\"dataframe\">\n",
       "  <thead>\n",
       "    <tr style=\"text-align: right;\">\n",
       "      <th></th>\n",
       "      <th>id</th>\n",
       "      <th>Gender</th>\n",
       "      <th>Age</th>\n",
       "      <th>Driving_License</th>\n",
       "      <th>Region_Code</th>\n",
       "      <th>Previously_Insured</th>\n",
       "      <th>Vehicle_Age</th>\n",
       "      <th>Vehicle_Damage</th>\n",
       "      <th>Annual_Premium</th>\n",
       "      <th>Policy_Sales_Channel</th>\n",
       "      <th>Vintage</th>\n",
       "      <th>Response</th>\n",
       "    </tr>\n",
       "  </thead>\n",
       "  <tbody>\n",
       "    <tr>\n",
       "      <th>0</th>\n",
       "      <td>1</td>\n",
       "      <td>Male</td>\n",
       "      <td>44</td>\n",
       "      <td>1</td>\n",
       "      <td>28.0</td>\n",
       "      <td>0</td>\n",
       "      <td>&gt; 2 Years</td>\n",
       "      <td>Yes</td>\n",
       "      <td>40454.0</td>\n",
       "      <td>26.0</td>\n",
       "      <td>217</td>\n",
       "      <td>1</td>\n",
       "    </tr>\n",
       "    <tr>\n",
       "      <th>1</th>\n",
       "      <td>2</td>\n",
       "      <td>Male</td>\n",
       "      <td>76</td>\n",
       "      <td>1</td>\n",
       "      <td>3.0</td>\n",
       "      <td>0</td>\n",
       "      <td>1-2 Year</td>\n",
       "      <td>No</td>\n",
       "      <td>33536.0</td>\n",
       "      <td>26.0</td>\n",
       "      <td>183</td>\n",
       "      <td>0</td>\n",
       "    </tr>\n",
       "    <tr>\n",
       "      <th>2</th>\n",
       "      <td>3</td>\n",
       "      <td>Male</td>\n",
       "      <td>47</td>\n",
       "      <td>1</td>\n",
       "      <td>28.0</td>\n",
       "      <td>0</td>\n",
       "      <td>&gt; 2 Years</td>\n",
       "      <td>Yes</td>\n",
       "      <td>38294.0</td>\n",
       "      <td>26.0</td>\n",
       "      <td>27</td>\n",
       "      <td>1</td>\n",
       "    </tr>\n",
       "    <tr>\n",
       "      <th>3</th>\n",
       "      <td>4</td>\n",
       "      <td>Male</td>\n",
       "      <td>21</td>\n",
       "      <td>1</td>\n",
       "      <td>11.0</td>\n",
       "      <td>1</td>\n",
       "      <td>&lt; 1 Year</td>\n",
       "      <td>No</td>\n",
       "      <td>28619.0</td>\n",
       "      <td>152.0</td>\n",
       "      <td>203</td>\n",
       "      <td>0</td>\n",
       "    </tr>\n",
       "    <tr>\n",
       "      <th>4</th>\n",
       "      <td>5</td>\n",
       "      <td>Female</td>\n",
       "      <td>29</td>\n",
       "      <td>1</td>\n",
       "      <td>41.0</td>\n",
       "      <td>1</td>\n",
       "      <td>&lt; 1 Year</td>\n",
       "      <td>No</td>\n",
       "      <td>27496.0</td>\n",
       "      <td>152.0</td>\n",
       "      <td>39</td>\n",
       "      <td>0</td>\n",
       "    </tr>\n",
       "  </tbody>\n",
       "</table>\n",
       "</div>"
      ],
      "text/plain": [
       "   id  Gender  Age  Driving_License  Region_Code  Previously_Insured  \\\n",
       "0   1    Male   44                1         28.0                   0   \n",
       "1   2    Male   76                1          3.0                   0   \n",
       "2   3    Male   47                1         28.0                   0   \n",
       "3   4    Male   21                1         11.0                   1   \n",
       "4   5  Female   29                1         41.0                   1   \n",
       "\n",
       "  Vehicle_Age Vehicle_Damage  Annual_Premium  Policy_Sales_Channel  Vintage  \\\n",
       "0   > 2 Years            Yes         40454.0                  26.0      217   \n",
       "1    1-2 Year             No         33536.0                  26.0      183   \n",
       "2   > 2 Years            Yes         38294.0                  26.0       27   \n",
       "3    < 1 Year             No         28619.0                 152.0      203   \n",
       "4    < 1 Year             No         27496.0                 152.0       39   \n",
       "\n",
       "   Response  \n",
       "0         1  \n",
       "1         0  \n",
       "2         1  \n",
       "3         0  \n",
       "4         0  "
      ]
     },
     "execution_count": 2,
     "metadata": {},
     "output_type": "execute_result"
    }
   ],
   "source": [
    "data = pd.read_csv(\"../input/insurance-dataset/Insurance cross sell.csv\")\n",
    "data.head()"
   ]
  },
  {
   "cell_type": "code",
   "execution_count": 3,
   "metadata": {
    "execution": {
     "iopub.execute_input": "2020-11-27T07:26:31.442434Z",
     "iopub.status.busy": "2020-11-27T07:26:31.441665Z",
     "iopub.status.idle": "2020-11-27T07:26:31.444905Z",
     "shell.execute_reply": "2020-11-27T07:26:31.444247Z"
    },
    "papermill": {
     "duration": 0.04617,
     "end_time": "2020-11-27T07:26:31.445022",
     "exception": false,
     "start_time": "2020-11-27T07:26:31.398852",
     "status": "completed"
    },
    "tags": []
   },
   "outputs": [],
   "source": [
    "data.drop('id',axis=1,inplace=True)"
   ]
  },
  {
   "cell_type": "code",
   "execution_count": 4,
   "metadata": {
    "execution": {
     "iopub.execute_input": "2020-11-27T07:26:31.480880Z",
     "iopub.status.busy": "2020-11-27T07:26:31.480143Z",
     "iopub.status.idle": "2020-11-27T07:26:31.516037Z",
     "shell.execute_reply": "2020-11-27T07:26:31.515445Z"
    },
    "papermill": {
     "duration": 0.059438,
     "end_time": "2020-11-27T07:26:31.516156",
     "exception": false,
     "start_time": "2020-11-27T07:26:31.456718",
     "status": "completed"
    },
    "tags": []
   },
   "outputs": [],
   "source": [
    "gender=pd.get_dummies(data['Gender'],drop_first=True)"
   ]
  },
  {
   "cell_type": "code",
   "execution_count": 5,
   "metadata": {
    "execution": {
     "iopub.execute_input": "2020-11-27T07:26:31.551841Z",
     "iopub.status.busy": "2020-11-27T07:26:31.551151Z",
     "iopub.status.idle": "2020-11-27T07:26:31.585889Z",
     "shell.execute_reply": "2020-11-27T07:26:31.585210Z"
    },
    "papermill": {
     "duration": 0.057841,
     "end_time": "2020-11-27T07:26:31.586010",
     "exception": false,
     "start_time": "2020-11-27T07:26:31.528169",
     "status": "completed"
    },
    "tags": []
   },
   "outputs": [],
   "source": [
    "vehicle_age=pd.get_dummies(data['Vehicle_Age'],drop_first=True)"
   ]
  },
  {
   "cell_type": "code",
   "execution_count": 6,
   "metadata": {
    "execution": {
     "iopub.execute_input": "2020-11-27T07:26:31.622923Z",
     "iopub.status.busy": "2020-11-27T07:26:31.622196Z",
     "iopub.status.idle": "2020-11-27T07:26:31.652328Z",
     "shell.execute_reply": "2020-11-27T07:26:31.651639Z"
    },
    "papermill": {
     "duration": 0.053185,
     "end_time": "2020-11-27T07:26:31.652477",
     "exception": false,
     "start_time": "2020-11-27T07:26:31.599292",
     "status": "completed"
    },
    "tags": []
   },
   "outputs": [],
   "source": [
    "vehicle_damage=pd.get_dummies(data['Vehicle_Damage'],drop_first=True)"
   ]
  },
  {
   "cell_type": "code",
   "execution_count": 7,
   "metadata": {
    "execution": {
     "iopub.execute_input": "2020-11-27T07:26:31.683806Z",
     "iopub.status.busy": "2020-11-27T07:26:31.683160Z",
     "iopub.status.idle": "2020-11-27T07:26:31.721495Z",
     "shell.execute_reply": "2020-11-27T07:26:31.720898Z"
    },
    "papermill": {
     "duration": 0.057058,
     "end_time": "2020-11-27T07:26:31.721609",
     "exception": false,
     "start_time": "2020-11-27T07:26:31.664551",
     "status": "completed"
    },
    "tags": []
   },
   "outputs": [],
   "source": [
    "data= pd.concat([data,gender,vehicle_age,vehicle_damage],axis=1)"
   ]
  },
  {
   "cell_type": "code",
   "execution_count": 8,
   "metadata": {
    "execution": {
     "iopub.execute_input": "2020-11-27T07:26:31.763232Z",
     "iopub.status.busy": "2020-11-27T07:26:31.762448Z",
     "iopub.status.idle": "2020-11-27T07:26:31.766978Z",
     "shell.execute_reply": "2020-11-27T07:26:31.766422Z"
    },
    "papermill": {
     "duration": 0.033013,
     "end_time": "2020-11-27T07:26:31.767089",
     "exception": false,
     "start_time": "2020-11-27T07:26:31.734076",
     "status": "completed"
    },
    "tags": []
   },
   "outputs": [
    {
     "data": {
      "text/html": [
       "<div>\n",
       "<style scoped>\n",
       "    .dataframe tbody tr th:only-of-type {\n",
       "        vertical-align: middle;\n",
       "    }\n",
       "\n",
       "    .dataframe tbody tr th {\n",
       "        vertical-align: top;\n",
       "    }\n",
       "\n",
       "    .dataframe thead th {\n",
       "        text-align: right;\n",
       "    }\n",
       "</style>\n",
       "<table border=\"1\" class=\"dataframe\">\n",
       "  <thead>\n",
       "    <tr style=\"text-align: right;\">\n",
       "      <th></th>\n",
       "      <th>Gender</th>\n",
       "      <th>Age</th>\n",
       "      <th>Driving_License</th>\n",
       "      <th>Region_Code</th>\n",
       "      <th>Previously_Insured</th>\n",
       "      <th>Vehicle_Age</th>\n",
       "      <th>Vehicle_Damage</th>\n",
       "      <th>Annual_Premium</th>\n",
       "      <th>Policy_Sales_Channel</th>\n",
       "      <th>Vintage</th>\n",
       "      <th>Response</th>\n",
       "      <th>Male</th>\n",
       "      <th>&lt; 1 Year</th>\n",
       "      <th>&gt; 2 Years</th>\n",
       "      <th>Yes</th>\n",
       "    </tr>\n",
       "  </thead>\n",
       "  <tbody>\n",
       "    <tr>\n",
       "      <th>0</th>\n",
       "      <td>Male</td>\n",
       "      <td>44</td>\n",
       "      <td>1</td>\n",
       "      <td>28.0</td>\n",
       "      <td>0</td>\n",
       "      <td>&gt; 2 Years</td>\n",
       "      <td>Yes</td>\n",
       "      <td>40454.0</td>\n",
       "      <td>26.0</td>\n",
       "      <td>217</td>\n",
       "      <td>1</td>\n",
       "      <td>1</td>\n",
       "      <td>0</td>\n",
       "      <td>1</td>\n",
       "      <td>1</td>\n",
       "    </tr>\n",
       "    <tr>\n",
       "      <th>1</th>\n",
       "      <td>Male</td>\n",
       "      <td>76</td>\n",
       "      <td>1</td>\n",
       "      <td>3.0</td>\n",
       "      <td>0</td>\n",
       "      <td>1-2 Year</td>\n",
       "      <td>No</td>\n",
       "      <td>33536.0</td>\n",
       "      <td>26.0</td>\n",
       "      <td>183</td>\n",
       "      <td>0</td>\n",
       "      <td>1</td>\n",
       "      <td>0</td>\n",
       "      <td>0</td>\n",
       "      <td>0</td>\n",
       "    </tr>\n",
       "    <tr>\n",
       "      <th>2</th>\n",
       "      <td>Male</td>\n",
       "      <td>47</td>\n",
       "      <td>1</td>\n",
       "      <td>28.0</td>\n",
       "      <td>0</td>\n",
       "      <td>&gt; 2 Years</td>\n",
       "      <td>Yes</td>\n",
       "      <td>38294.0</td>\n",
       "      <td>26.0</td>\n",
       "      <td>27</td>\n",
       "      <td>1</td>\n",
       "      <td>1</td>\n",
       "      <td>0</td>\n",
       "      <td>1</td>\n",
       "      <td>1</td>\n",
       "    </tr>\n",
       "    <tr>\n",
       "      <th>3</th>\n",
       "      <td>Male</td>\n",
       "      <td>21</td>\n",
       "      <td>1</td>\n",
       "      <td>11.0</td>\n",
       "      <td>1</td>\n",
       "      <td>&lt; 1 Year</td>\n",
       "      <td>No</td>\n",
       "      <td>28619.0</td>\n",
       "      <td>152.0</td>\n",
       "      <td>203</td>\n",
       "      <td>0</td>\n",
       "      <td>1</td>\n",
       "      <td>1</td>\n",
       "      <td>0</td>\n",
       "      <td>0</td>\n",
       "    </tr>\n",
       "    <tr>\n",
       "      <th>4</th>\n",
       "      <td>Female</td>\n",
       "      <td>29</td>\n",
       "      <td>1</td>\n",
       "      <td>41.0</td>\n",
       "      <td>1</td>\n",
       "      <td>&lt; 1 Year</td>\n",
       "      <td>No</td>\n",
       "      <td>27496.0</td>\n",
       "      <td>152.0</td>\n",
       "      <td>39</td>\n",
       "      <td>0</td>\n",
       "      <td>0</td>\n",
       "      <td>1</td>\n",
       "      <td>0</td>\n",
       "      <td>0</td>\n",
       "    </tr>\n",
       "  </tbody>\n",
       "</table>\n",
       "</div>"
      ],
      "text/plain": [
       "   Gender  Age  Driving_License  Region_Code  Previously_Insured Vehicle_Age  \\\n",
       "0    Male   44                1         28.0                   0   > 2 Years   \n",
       "1    Male   76                1          3.0                   0    1-2 Year   \n",
       "2    Male   47                1         28.0                   0   > 2 Years   \n",
       "3    Male   21                1         11.0                   1    < 1 Year   \n",
       "4  Female   29                1         41.0                   1    < 1 Year   \n",
       "\n",
       "  Vehicle_Damage  Annual_Premium  Policy_Sales_Channel  Vintage  Response  \\\n",
       "0            Yes         40454.0                  26.0      217         1   \n",
       "1             No         33536.0                  26.0      183         0   \n",
       "2            Yes         38294.0                  26.0       27         1   \n",
       "3             No         28619.0                 152.0      203         0   \n",
       "4             No         27496.0                 152.0       39         0   \n",
       "\n",
       "   Male  < 1 Year  > 2 Years  Yes  \n",
       "0     1         0          1    1  \n",
       "1     1         0          0    0  \n",
       "2     1         0          1    1  \n",
       "3     1         1          0    0  \n",
       "4     0         1          0    0  "
      ]
     },
     "execution_count": 8,
     "metadata": {},
     "output_type": "execute_result"
    }
   ],
   "source": [
    "data.head()"
   ]
  },
  {
   "cell_type": "code",
   "execution_count": 9,
   "metadata": {
    "execution": {
     "iopub.execute_input": "2020-11-27T07:26:31.798041Z",
     "iopub.status.busy": "2020-11-27T07:26:31.797397Z",
     "iopub.status.idle": "2020-11-27T07:26:31.854693Z",
     "shell.execute_reply": "2020-11-27T07:26:31.854139Z"
    },
    "papermill": {
     "duration": 0.075106,
     "end_time": "2020-11-27T07:26:31.854824",
     "exception": false,
     "start_time": "2020-11-27T07:26:31.779718",
     "status": "completed"
    },
    "tags": []
   },
   "outputs": [],
   "source": [
    "data.drop(['Gender','Vehicle_Age','Vehicle_Damage',],axis=1,inplace=True)"
   ]
  },
  {
   "cell_type": "code",
   "execution_count": 10,
   "metadata": {
    "execution": {
     "iopub.execute_input": "2020-11-27T07:26:31.894296Z",
     "iopub.status.busy": "2020-11-27T07:26:31.893255Z",
     "iopub.status.idle": "2020-11-27T07:26:31.897244Z",
     "shell.execute_reply": "2020-11-27T07:26:31.896619Z"
    },
    "papermill": {
     "duration": 0.029789,
     "end_time": "2020-11-27T07:26:31.897353",
     "exception": false,
     "start_time": "2020-11-27T07:26:31.867564",
     "status": "completed"
    },
    "tags": []
   },
   "outputs": [
    {
     "data": {
      "text/html": [
       "<div>\n",
       "<style scoped>\n",
       "    .dataframe tbody tr th:only-of-type {\n",
       "        vertical-align: middle;\n",
       "    }\n",
       "\n",
       "    .dataframe tbody tr th {\n",
       "        vertical-align: top;\n",
       "    }\n",
       "\n",
       "    .dataframe thead th {\n",
       "        text-align: right;\n",
       "    }\n",
       "</style>\n",
       "<table border=\"1\" class=\"dataframe\">\n",
       "  <thead>\n",
       "    <tr style=\"text-align: right;\">\n",
       "      <th></th>\n",
       "      <th>Age</th>\n",
       "      <th>Driving_License</th>\n",
       "      <th>Region_Code</th>\n",
       "      <th>Previously_Insured</th>\n",
       "      <th>Annual_Premium</th>\n",
       "      <th>Policy_Sales_Channel</th>\n",
       "      <th>Vintage</th>\n",
       "      <th>Response</th>\n",
       "      <th>Male</th>\n",
       "      <th>&lt; 1 Year</th>\n",
       "      <th>&gt; 2 Years</th>\n",
       "      <th>Yes</th>\n",
       "    </tr>\n",
       "  </thead>\n",
       "  <tbody>\n",
       "    <tr>\n",
       "      <th>0</th>\n",
       "      <td>44</td>\n",
       "      <td>1</td>\n",
       "      <td>28.0</td>\n",
       "      <td>0</td>\n",
       "      <td>40454.0</td>\n",
       "      <td>26.0</td>\n",
       "      <td>217</td>\n",
       "      <td>1</td>\n",
       "      <td>1</td>\n",
       "      <td>0</td>\n",
       "      <td>1</td>\n",
       "      <td>1</td>\n",
       "    </tr>\n",
       "    <tr>\n",
       "      <th>1</th>\n",
       "      <td>76</td>\n",
       "      <td>1</td>\n",
       "      <td>3.0</td>\n",
       "      <td>0</td>\n",
       "      <td>33536.0</td>\n",
       "      <td>26.0</td>\n",
       "      <td>183</td>\n",
       "      <td>0</td>\n",
       "      <td>1</td>\n",
       "      <td>0</td>\n",
       "      <td>0</td>\n",
       "      <td>0</td>\n",
       "    </tr>\n",
       "    <tr>\n",
       "      <th>2</th>\n",
       "      <td>47</td>\n",
       "      <td>1</td>\n",
       "      <td>28.0</td>\n",
       "      <td>0</td>\n",
       "      <td>38294.0</td>\n",
       "      <td>26.0</td>\n",
       "      <td>27</td>\n",
       "      <td>1</td>\n",
       "      <td>1</td>\n",
       "      <td>0</td>\n",
       "      <td>1</td>\n",
       "      <td>1</td>\n",
       "    </tr>\n",
       "    <tr>\n",
       "      <th>3</th>\n",
       "      <td>21</td>\n",
       "      <td>1</td>\n",
       "      <td>11.0</td>\n",
       "      <td>1</td>\n",
       "      <td>28619.0</td>\n",
       "      <td>152.0</td>\n",
       "      <td>203</td>\n",
       "      <td>0</td>\n",
       "      <td>1</td>\n",
       "      <td>1</td>\n",
       "      <td>0</td>\n",
       "      <td>0</td>\n",
       "    </tr>\n",
       "    <tr>\n",
       "      <th>4</th>\n",
       "      <td>29</td>\n",
       "      <td>1</td>\n",
       "      <td>41.0</td>\n",
       "      <td>1</td>\n",
       "      <td>27496.0</td>\n",
       "      <td>152.0</td>\n",
       "      <td>39</td>\n",
       "      <td>0</td>\n",
       "      <td>0</td>\n",
       "      <td>1</td>\n",
       "      <td>0</td>\n",
       "      <td>0</td>\n",
       "    </tr>\n",
       "  </tbody>\n",
       "</table>\n",
       "</div>"
      ],
      "text/plain": [
       "   Age  Driving_License  Region_Code  Previously_Insured  Annual_Premium  \\\n",
       "0   44                1         28.0                   0         40454.0   \n",
       "1   76                1          3.0                   0         33536.0   \n",
       "2   47                1         28.0                   0         38294.0   \n",
       "3   21                1         11.0                   1         28619.0   \n",
       "4   29                1         41.0                   1         27496.0   \n",
       "\n",
       "   Policy_Sales_Channel  Vintage  Response  Male  < 1 Year  > 2 Years  Yes  \n",
       "0                  26.0      217         1     1         0          1    1  \n",
       "1                  26.0      183         0     1         0          0    0  \n",
       "2                  26.0       27         1     1         0          1    1  \n",
       "3                 152.0      203         0     1         1          0    0  \n",
       "4                 152.0       39         0     0         1          0    0  "
      ]
     },
     "execution_count": 10,
     "metadata": {},
     "output_type": "execute_result"
    }
   ],
   "source": [
    "data.head()"
   ]
  },
  {
   "cell_type": "code",
   "execution_count": 11,
   "metadata": {
    "execution": {
     "iopub.execute_input": "2020-11-27T07:26:31.934299Z",
     "iopub.status.busy": "2020-11-27T07:26:31.933605Z",
     "iopub.status.idle": "2020-11-27T07:26:31.937678Z",
     "shell.execute_reply": "2020-11-27T07:26:31.937174Z"
    },
    "papermill": {
     "duration": 0.027247,
     "end_time": "2020-11-27T07:26:31.937802",
     "exception": false,
     "start_time": "2020-11-27T07:26:31.910555",
     "status": "completed"
    },
    "tags": []
   },
   "outputs": [],
   "source": [
    "X= data.drop('Response',axis=1)\n",
    "Y= data['Response']"
   ]
  },
  {
   "cell_type": "code",
   "execution_count": 12,
   "metadata": {
    "execution": {
     "iopub.execute_input": "2020-11-27T07:26:31.970759Z",
     "iopub.status.busy": "2020-11-27T07:26:31.970179Z",
     "iopub.status.idle": "2020-11-27T07:26:32.535959Z",
     "shell.execute_reply": "2020-11-27T07:26:32.535034Z"
    },
    "papermill": {
     "duration": 0.584935,
     "end_time": "2020-11-27T07:26:32.536161",
     "exception": false,
     "start_time": "2020-11-27T07:26:31.951226",
     "status": "completed"
    },
    "tags": []
   },
   "outputs": [
    {
     "name": "stdout",
     "output_type": "stream",
     "text": [
      "Number transactions X_train dataset:  (342998, 11)\n",
      "Number transactions y_train dataset:  (342998,)\n",
      "Number transactions X_test dataset:  (38111, 11)\n",
      "Number transactions y_test dataset:  (38111,)\n"
     ]
    }
   ],
   "source": [
    "from imblearn.over_sampling import SMOTE\n",
    "\n",
    "from sklearn.model_selection import train_test_split\n",
    "\n",
    "X_train, X_test, Y_train, Y_test = train_test_split(X, Y, test_size=0.1, random_state=42)\n",
    "\n",
    "print(\"Number transactions X_train dataset: \", X_train.shape)\n",
    "print(\"Number transactions y_train dataset: \", Y_train.shape)\n",
    "print(\"Number transactions X_test dataset: \", X_test.shape)\n",
    "print(\"Number transactions y_test dataset: \", Y_test.shape)"
   ]
  },
  {
   "cell_type": "code",
   "execution_count": 13,
   "metadata": {
    "execution": {
     "iopub.execute_input": "2020-11-27T07:26:32.572259Z",
     "iopub.status.busy": "2020-11-27T07:26:32.571567Z",
     "iopub.status.idle": "2020-11-27T07:26:36.226140Z",
     "shell.execute_reply": "2020-11-27T07:26:36.225411Z"
    },
    "papermill": {
     "duration": 3.675615,
     "end_time": "2020-11-27T07:26:36.226259",
     "exception": false,
     "start_time": "2020-11-27T07:26:32.550644",
     "status": "completed"
    },
    "tags": []
   },
   "outputs": [
    {
     "name": "stdout",
     "output_type": "stream",
     "text": [
      "Before OverSampling, counts of label '1': 41927\n",
      "Before OverSampling, counts of label '0': 301071 \n",
      "\n",
      "After OverSampling, the shape of train_X: (602142, 11)\n",
      "After OverSampling, the shape of train_Y: (602142,) \n",
      "\n",
      "After OverSampling, counts of label '1': 301071\n",
      "After OverSampling, counts of label '0': 301071\n"
     ]
    }
   ],
   "source": [
    "print(\"Before OverSampling, counts of label '1': {}\".format(sum(Y_train==1)))\n",
    "print(\"Before OverSampling, counts of label '0': {} \\n\".format(sum(Y_train==0)))\n",
    "\n",
    "sm = SMOTE(random_state=2)\n",
    "X_train_res, Y_train_res = sm.fit_sample(X_train, Y_train.ravel())\n",
    "\n",
    "print('After OverSampling, the shape of train_X: {}'.format(X_train_res.shape))\n",
    "print('After OverSampling, the shape of train_Y: {} \\n'.format(Y_train_res.shape))\n",
    "\n",
    "print(\"After OverSampling, counts of label '1': {}\".format(sum(Y_train_res==1)))\n",
    "print(\"After OverSampling, counts of label '0': {}\".format(sum(Y_train_res==0)))"
   ]
  },
  {
   "cell_type": "code",
   "execution_count": 14,
   "metadata": {
    "execution": {
     "iopub.execute_input": "2020-11-27T07:26:36.264189Z",
     "iopub.status.busy": "2020-11-27T07:26:36.263425Z",
     "iopub.status.idle": "2020-11-27T07:26:36.266155Z",
     "shell.execute_reply": "2020-11-27T07:26:36.266571Z"
    },
    "papermill": {
     "duration": 0.02447,
     "end_time": "2020-11-27T07:26:36.266729",
     "exception": false,
     "start_time": "2020-11-27T07:26:36.242259",
     "status": "completed"
    },
    "tags": []
   },
   "outputs": [],
   "source": [
    "from sklearn.model_selection import RepeatedKFold\n",
    "from sklearn.model_selection import GridSearchCV"
   ]
  },
  {
   "cell_type": "code",
   "execution_count": 15,
   "metadata": {
    "execution": {
     "iopub.execute_input": "2020-11-27T07:26:36.301989Z",
     "iopub.status.busy": "2020-11-27T07:26:36.301357Z",
     "iopub.status.idle": "2020-11-27T07:26:36.304299Z",
     "shell.execute_reply": "2020-11-27T07:26:36.303634Z"
    },
    "papermill": {
     "duration": 0.022246,
     "end_time": "2020-11-27T07:26:36.304406",
     "exception": false,
     "start_time": "2020-11-27T07:26:36.282160",
     "status": "completed"
    },
    "tags": []
   },
   "outputs": [],
   "source": [
    "from sklearn.ensemble import GradientBoostingClassifier"
   ]
  },
  {
   "cell_type": "code",
   "execution_count": 16,
   "metadata": {
    "execution": {
     "iopub.execute_input": "2020-11-27T07:26:36.340280Z",
     "iopub.status.busy": "2020-11-27T07:26:36.339574Z",
     "iopub.status.idle": "2020-11-27T07:26:36.342189Z",
     "shell.execute_reply": "2020-11-27T07:26:36.342804Z"
    },
    "papermill": {
     "duration": 0.023155,
     "end_time": "2020-11-27T07:26:36.342987",
     "exception": false,
     "start_time": "2020-11-27T07:26:36.319832",
     "status": "completed"
    },
    "tags": []
   },
   "outputs": [],
   "source": [
    "model = GradientBoostingClassifier(loss= 'exponential', n_estimators= 100)"
   ]
  },
  {
   "cell_type": "code",
   "execution_count": 17,
   "metadata": {
    "execution": {
     "iopub.execute_input": "2020-11-27T07:26:36.381053Z",
     "iopub.status.busy": "2020-11-27T07:26:36.380318Z",
     "iopub.status.idle": "2020-11-27T07:28:19.955972Z",
     "shell.execute_reply": "2020-11-27T07:28:19.956487Z"
    },
    "papermill": {
     "duration": 103.597915,
     "end_time": "2020-11-27T07:28:19.956643",
     "exception": false,
     "start_time": "2020-11-27T07:26:36.358728",
     "status": "completed"
    },
    "tags": []
   },
   "outputs": [
    {
     "data": {
      "text/plain": [
       "GradientBoostingClassifier(loss='exponential')"
      ]
     },
     "execution_count": 17,
     "metadata": {},
     "output_type": "execute_result"
    }
   ],
   "source": [
    "model.fit(X_train_res, Y_train_res)"
   ]
  },
  {
   "cell_type": "code",
   "execution_count": 18,
   "metadata": {
    "execution": {
     "iopub.execute_input": "2020-11-27T07:28:19.994160Z",
     "iopub.status.busy": "2020-11-27T07:28:19.993028Z",
     "iopub.status.idle": "2020-11-27T07:28:19.995716Z",
     "shell.execute_reply": "2020-11-27T07:28:19.996233Z"
    },
    "papermill": {
     "duration": 0.024048,
     "end_time": "2020-11-27T07:28:19.996374",
     "exception": false,
     "start_time": "2020-11-27T07:28:19.972326",
     "status": "completed"
    },
    "tags": []
   },
   "outputs": [],
   "source": [
    "from sklearn.metrics import f1_score, roc_auc_score,accuracy_score,confusion_matrix, precision_recall_curve, auc, roc_curve, recall_score"
   ]
  },
  {
   "cell_type": "code",
   "execution_count": 19,
   "metadata": {
    "execution": {
     "iopub.execute_input": "2020-11-27T07:28:20.036948Z",
     "iopub.status.busy": "2020-11-27T07:28:20.036177Z",
     "iopub.status.idle": "2020-11-27T07:28:20.395043Z",
     "shell.execute_reply": "2020-11-27T07:28:20.394455Z"
    },
    "papermill": {
     "duration": 0.382884,
     "end_time": "2020-11-27T07:28:20.395162",
     "exception": false,
     "start_time": "2020-11-27T07:28:20.012278",
     "status": "completed"
    },
    "tags": []
   },
   "outputs": [
    {
     "data": {
      "image/png": "[encoded data removed]",
      "text/plain": [
       "<Figure size 432x288 with 1 Axes>"
      ]
     },
     "metadata": {
      "needs_background": "light"
     },
     "output_type": "display_data"
    },
    {
     "name": "stdout",
     "output_type": "stream",
     "text": [
      "Area under curve (AUC):  0.8331915784760979\n"
     ]
    }
   ],
   "source": [
    "y_score = model.predict_proba(X_test)[:,1]\n",
    "fpr, tpr, _ = roc_curve(Y_test, y_score)\n",
    "\n",
    "plt.title('GRADIENT BOOSTED ROC curve: INSURANCE')\n",
    "plt.xlabel('FPR (Precision)')\n",
    "plt.ylabel('TPR (Recall)')\n",
    "\n",
    "plt.plot(fpr,tpr)\n",
    "plt.plot((0,1), ls='dashed',color='black')\n",
    "plt.show()\n",
    "print ('Area under curve (AUC): ', auc(fpr,tpr))"
   ]
  }
 ],
 "metadata": {
  "kernelspec": {
   "display_name": "Python 3",
   "language": "python",
   "name": "python3"
  },
  "language_info": {
   "codemirror_mode": {
    "name": "ipython",
    "version": 3
   },
   "file_extension": ".py",
   "mimetype": "text/x-python",
   "name": "python",
   "nbconvert_exporter": "python",
   "pygments_lexer": "ipython3",
   "version": "3.7.6"
  },
  "papermill": {
   "duration": 115.251619,
   "end_time": "2020-11-27T07:28:20.520135",
   "environment_variables": {},
   "exception": null,
   "input_path": "__notebook__.ipynb",
   "output_path": "__notebook__.ipynb",
   "parameters": {},
   "start_time": "2020-11-27T07:26:25.268516",
   "version": "2.1.0"
  }
 },
 "nbformat": 4,
 "nbformat_minor": 4
}
